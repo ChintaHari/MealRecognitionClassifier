{
 "cells": [
  {
   "cell_type": "code",
   "execution_count": 1,
   "id": "d6111111",
   "metadata": {},
   "outputs": [],
   "source": [
    "import pandas as pd\n",
    "import numpy as np\n",
    "import datetime\n",
    "from datetime import timedelta\n",
    "from scipy.fftpack import fft, ifft,rfft\n",
    "from sklearn.utils import shuffle\n",
    "from sklearn.tree import DecisionTreeClassifier\n",
    "from sklearn.model_selection import KFold, RepeatedKFold\n",
    "from sklearn.svm import SVC\n",
    "from joblib import dump, load\n"
   ]
  },
  {
   "cell_type": "code",
   "execution_count": 2,
   "id": "3f169ad3",
   "metadata": {},
   "outputs": [],
   "source": [
    "#insulin_data_df=pd.read_csv('InsulinData.csv',low_memory=False,usecols=['Date','Time','BWZ Carb Input (grams)'])\n",
    "insulin_data=pd.read_csv('InsulinData.csv',low_memory=False,usecols=['Date','Time','BWZ Carb Input (grams)'])\n",
    "# insulin_data_df=pd.read_csv('~\\InsulinData.csv',low_memory=False,usecols=['Date','Time','BWZ Carb Input (grams)'])\n"
   ]
  },
  {
   "cell_type": "code",
   "execution_count": 3,
   "id": "70544b56",
   "metadata": {},
   "outputs": [],
   "source": [
    "cgm_data=pd.read_csv('CGMData.csv',low_memory=False,usecols=['Date','Time','Sensor Glucose (mg/dL)'])\n",
    "# cgm_data_df=pd.read_csv('~\\CGMData.csv',low_memory=False,usecols=['Date','Time','Sensor Glucose (mg/dL)'])\n"
   ]
  },
  {
   "cell_type": "code",
   "execution_count": 4,
   "id": "948caac7",
   "metadata": {},
   "outputs": [],
   "source": [
    "insulin_data['date_time_stamp']=pd.to_datetime(insulin_data['Date'] + ' ' + insulin_data['Time'])\n",
    "cgm_data['date_time_stamp']=pd.to_datetime(cgm_data['Date'] + ' ' + cgm_data['Time'])"
   ]
  },
  {
   "cell_type": "code",
   "execution_count": 5,
   "id": "bf701951",
   "metadata": {},
   "outputs": [],
   "source": [
    "insulin_data_1=pd.read_csv('Insulin_patient2.csv',low_memory=False,usecols=['Date','Time','BWZ Carb Input (grams)'])\n",
    "# insulin_data_df_1=pd.read_csv('~\\Insulin_patient2.csv',low_memory=False,usecols=['Date','Time','BWZ Carb Input (grams)'])\n",
    "#print(insulin_data_df_1)"
   ]
  },
  {
   "cell_type": "code",
   "execution_count": 6,
   "id": "2037ea14",
   "metadata": {},
   "outputs": [],
   "source": [
    "cgm_data_1=pd.read_csv('CGM_patient2.csv',low_memory=False,usecols=['Date','Time','Sensor Glucose (mg/dL)'])\n",
    "# cgm_data_df_1=pd.read_csv('~\\CGM_patient2.csv',low_memory=False,usecols=['Date','Time','Sensor Glucose (mg/dL)'])\n",
    "#print(cgm_data_df_1)"
   ]
  },
  {
   "cell_type": "code",
   "execution_count": 7,
   "id": "9f484e6e",
   "metadata": {},
   "outputs": [],
   "source": [
    "insulin_data_1['date_time_stamp']=pd.to_datetime(insulin_data_1['Date'] + ' ' + insulin_data_1['Time'])\n",
    "cgm_data_1['date_time_stamp']=pd.to_datetime(cgm_data_1['Date'] + ' ' + cgm_data_1['Time'])\n",
    "\n",
    "#print(insulin_data_df_1)\n",
    "#print(cgm_data_df_1)"
   ]
  },
  {
   "cell_type": "markdown",
   "id": "c5d0ffe4",
   "metadata": {},
   "source": [
    "# Generating Meal Data using 'createmealdata' function "
   ]
  },
  {
   "cell_type": "code",
   "execution_count": 8,
   "id": "69fde1be",
   "metadata": {},
   "outputs": [],
   "source": [
    "def createmealdata(insulin_data,cgm_data,dateidentifier):\n",
    "    insulin_df=insulin_data.copy()\n",
    "    insulin_df=insulin_df.set_index('date_time_stamp')\n",
    "    valid_2_5_hour_stretch=insulin_df.sort_values(by='date_time_stamp',ascending=True).dropna().reset_index()\n",
    "    \n",
    "    valid_2_5_hour_stretch['BWZ Carb Input (grams)'].replace(0.0,np.nan,inplace=True)\n",
    "    valid_2_5_hour_stretch=valid_2_5_hour_stretch.dropna()\n",
    "    valid_2_5_hour_stretch=valid_2_5_hour_stretch.reset_index().drop(columns='index')\n",
    "    valid_timestamp_list=[]\n",
    "    value=0\n",
    "    for idx,i in enumerate(valid_2_5_hour_stretch['date_time_stamp']):\n",
    "        try:\n",
    "            #print(idx,i)\n",
    "            value=(valid_2_5_hour_stretch['date_time_stamp'][idx+1]-i).seconds / 60.0\n",
    "            if value >= 120:\n",
    "                valid_timestamp_list.append(i)\n",
    "        except KeyError:\n",
    "            break\n",
    "            \n",
    "            \n",
    "    #print(valid_timestamp_list[11])\n",
    "    meal_list=[]\n",
    "    if dateidentifier==1:\n",
    "        for idx,i in enumerate(valid_timestamp_list):\n",
    "            #print(idx,i)\n",
    "            start=pd.to_datetime(i - timedelta(minutes=30))\n",
    "            end=pd.to_datetime(i + timedelta(minutes=120))\n",
    "            get_date=i.date().strftime('%#m/%#d/%Y')\n",
    "            #print(i, start, end, get_date)\n",
    "            meal_list.append(cgm_data.loc[cgm_data['Date']==get_date].set_index('date_time_stamp').between_time(start_time=start.strftime('%#H:%#M:%#S'),end_time=end.strftime('%#H:%#M:%#S'))['Sensor Glucose (mg/dL)'].values.tolist())\n",
    "            #print(meal_list)\n",
    "        return pd.DataFrame(meal_list)\n",
    "    else:\n",
    "        for idx,i in enumerate(valid_timestamp_list):\n",
    "            start=pd.to_datetime(i - timedelta(minutes=30))\n",
    "            end=pd.to_datetime(i + timedelta(minutes=120))\n",
    "            get_date=i.date().strftime('%Y-%m-%d')\n",
    "            meal_list.append(cgm_data.loc[cgm_data['Date']==get_date].set_index('date_time_stamp').between_time(start_time=start.strftime('%H:%M:%S'),end_time=end.strftime('%H:%M:%S'))['Sensor Glucose (mg/dL)'].values.tolist())\n",
    "        return pd.DataFrame(meal_list)"
   ]
  },
  {
   "cell_type": "code",
   "execution_count": 9,
   "id": "9b1ef413",
   "metadata": {},
   "outputs": [],
   "source": [
    "\n",
    "\n",
    "meal_data=createmealdata(insulin_data,cgm_data,1)\n",
    "meal_data1=createmealdata(insulin_data_1,cgm_data_1,2)\n",
    "meal_data=meal_data.iloc[:,0:30]\n",
    "meal_data1=meal_data1.iloc[:,0:30]\n"
   ]
  },
  {
   "cell_type": "markdown",
   "id": "ed8c5265",
   "metadata": {},
   "source": [
    "# Generating NoMeal Data using 'createnomealdata' function "
   ]
  },
  {
   "cell_type": "code",
   "execution_count": 10,
   "id": "26fae48d",
   "metadata": {},
   "outputs": [],
   "source": [
    "def createnomealdata(insulin_data,cgm_data):\n",
    "    insulin_no_meal_df=insulin_data.copy()\n",
    "    insulin_no_meal_sorted_df=insulin_no_meal_df.sort_values(by='date_time_stamp',ascending=True).replace(0.0,np.nan).dropna().copy()\n",
    "    insulin_no_meal_sorted_df=insulin_no_meal_sorted_df.reset_index().drop(columns='index')\n",
    "    valid_timestamp=[]\n",
    "    for idx,i in enumerate(insulin_no_meal_sorted_df['date_time_stamp']):\n",
    "        try:\n",
    "            value=(insulin_no_meal_sorted_df['date_time_stamp'][idx+1]-i).seconds//3600\n",
    "            #print(value)\n",
    "            if value >=4:\n",
    "                valid_timestamp.append(i)\n",
    "        except KeyError:\n",
    "            break\n",
    "    dataset=[]\n",
    "    for idx, i in enumerate(valid_timestamp):\n",
    "        iteration_dataset=1\n",
    "        try:\n",
    "            length_of_24_dataset_df_count=len(cgm_data.loc[(cgm_data['date_time_stamp']>=valid_timestamp[idx]+pd.Timedelta(hours=2))&(cgm_data['date_time_stamp']<valid_timestamp[idx+1])])//24\n",
    "            #print(length_of_24_dataset_df_count)\n",
    "            while (iteration_dataset<=length_of_24_dataset_df_count):\n",
    "                if iteration_dataset==1:\n",
    "                    dataset.append(cgm_data.loc[(cgm_data['date_time_stamp']>=valid_timestamp[idx]+pd.Timedelta(hours=2))&(cgm_data['date_time_stamp']<valid_timestamp[idx+1])]['Sensor Glucose (mg/dL)'][:iteration_dataset*24].values.tolist())\n",
    "                    iteration_dataset+=1\n",
    "                else:\n",
    "                    dataset.append(cgm_data.loc[(cgm_data['date_time_stamp']>=valid_timestamp[idx]+pd.Timedelta(hours=2))&(cgm_data['date_time_stamp']<valid_timestamp[idx+1])]['Sensor Glucose (mg/dL)'][(iteration_dataset-1)*24:(iteration_dataset)*24].values.tolist())\n",
    "                    iteration_dataset+=1\n",
    "        except IndexError:\n",
    "            break\n",
    "    return pd.DataFrame(dataset)"
   ]
  },
  {
   "cell_type": "code",
   "execution_count": 11,
   "id": "0adef19d",
   "metadata": {},
   "outputs": [],
   "source": [
    "no_meal_data=createnomealdata(insulin_data,cgm_data)\n",
    "no_meal_data1=createnomealdata(insulin_data_1,cgm_data_1)\n"
   ]
  },
  {
   "cell_type": "markdown",
   "id": "a6e34395",
   "metadata": {},
   "source": [
    "# Extracting feature matrix for Meal Data"
   ]
  },
  {
   "cell_type": "code",
   "execution_count": 12,
   "id": "9aa1b6fd",
   "metadata": {},
   "outputs": [],
   "source": [
    "def createmealfeaturematrix(meal_data):\n",
    "    #collect indexes where meal_data have more than 6 missing values (i.e nan)\n",
    "    index=meal_data.isna().sum(axis=1).replace(0,np.nan).dropna().where(lambda x:x>6).dropna().index\n",
    "    \n",
    "    meal_data_cleaned=meal_data.drop(meal_data.index[index]).reset_index().drop(columns='index')\n",
    "    meal_data_cleaned=meal_data_cleaned.interpolate(method='linear',axis=1)\n",
    "    #print(meal_data_cleaned)\n",
    "    \n",
    "    index_to_drop_again=meal_data_cleaned.isna().sum(axis=1).replace(0,np.nan).dropna().index\n",
    "    meal_data_cleaned=meal_data_cleaned.drop(meal_data.index[index_to_drop_again]).reset_index().drop(columns='index')\n",
    "    \n",
    "    #meal_data_cleaned['tau_time']=(meal_data_cleaned.iloc[:,22:25].idxmin(axis=1)-meal_data_cleaned.iloc[:,6].idxmax(axis=1))*5\n",
    "    #meal_data_cleaned['tau_time']=(meal_data_cleaned.iloc[:,7:].idxmax(axis=1)-6)*5\n",
    "    tau_time=abs((meal_data_cleaned.iloc[:,7:].idxmax(axis=1)-6)*5)\n",
    "    \n",
    "    \n",
    "   # meal_data_cleaned['difference_in_glucose_normalized']=(meal_data_cleaned.iloc[:,5:19].max(axis=1)-meal_data_cleaned.iloc[:,22:25].min(axis=1))/(meal_data_cleaned.iloc[:,22:25].min(axis=1))\n",
    "    #meal_data_cleaned['difference_in_glucose_normalized']=(meal_data_cleaned.iloc[:,7:].max(axis=1)-meal_data_cleaned.iloc[:,6])/(meal_data_cleaned.iloc[:,6])\n",
    "    difference_in_glucose_normalized=abs((meal_data_cleaned.iloc[:,7:].max(axis=1)-meal_data_cleaned.iloc[:,6])/(meal_data_cleaned.iloc[:,6]))\n",
    "    \n",
    "    meal_data_cleaned=meal_data_cleaned.dropna().reset_index().drop(columns='index')\n",
    "    power_first_max=[]\n",
    "    index_first_max=[]\n",
    "    power_second_max=[]\n",
    "    index_second_max=[]\n",
    "    for i in range(len(meal_data_cleaned)):\n",
    "        array=abs(rfft(meal_data_cleaned.iloc[:,0:30].iloc[i].values.tolist())).tolist()\n",
    "        sorted_array=abs(rfft(meal_data_cleaned.iloc[:,0:30].iloc[i].values.tolist())).tolist()\n",
    "        sorted_array.sort()\n",
    "        power_first_max.append(sorted_array[-2])\n",
    "        power_second_max.append(sorted_array[-3])\n",
    "        index_first_max.append(array.index(sorted_array[-2]))\n",
    "        index_second_max.append(array.index(sorted_array[-3]))\n",
    "    meal_feature_matrix=pd.DataFrame()\n",
    "    #meal_feature_matrix['tau_time']=meal_data_cleaned['tau_time']\n",
    "    #meal_feature_matrix['difference_in_glucose_normalized']=meal_data_cleaned['difference_in_glucose_normalized']\n",
    "    meal_feature_matrix['tau_time']=tau_time\n",
    "    meal_feature_matrix['difference_in_glucose_normalized']=difference_in_glucose_normalized\n",
    "    meal_feature_matrix['power_first_max']=power_first_max\n",
    "    meal_feature_matrix['power_second_max']=power_second_max\n",
    "    meal_feature_matrix['index_first_max']=index_first_max\n",
    "    meal_feature_matrix['index_second_max']=index_second_max\n",
    "    #tm=meal_data_cleaned.iloc[:,22:25].idxmin(axis=1)\n",
    "    tm = 6\n",
    "    #maximum=meal_data_cleaned.iloc[:,5:19].idxmax(axis=1)\n",
    "    maximum=meal_data_cleaned.iloc[:,7:].idxmax(axis=1)\n",
    "    \n",
    "    list1=[]\n",
    "    second_differential_data=[]\n",
    "    standard_deviation=[]\n",
    "    for i in range(len(meal_data_cleaned)):\n",
    "        #list1.append(np.diff(meal_data_cleaned.iloc[:,maximum[i]:tm[i]].iloc[i].tolist()).max())\n",
    "        list1.append(np.diff(meal_data_cleaned.iloc[i,tm:(maximum[i]+1)].tolist()).max())\n",
    "        #second_differential_data.append(np.diff(np.diff(meal_data_cleaned.iloc[:,maximum[i]:tm[i]].iloc[i].tolist())).max())\n",
    "        if(len(meal_data_cleaned.iloc[i,tm:(maximum[i]+1)])>2):\n",
    "            second_differential_data.append(np.diff(np.diff(meal_data_cleaned.iloc[i,tm:maximum[i]+1].tolist())).max())\n",
    "        else:\n",
    "            second_differential_data.append(0)     \n",
    "        #standard_deviation.append(np.std(meal_data_cleaned.iloc[i]))\n",
    "    meal_feature_matrix['1stDifferential']=list1\n",
    "    meal_feature_matrix['2ndDifferential']=second_differential_data\n",
    "    return meal_feature_matrix"
   ]
  },
  {
   "cell_type": "code",
   "execution_count": 13,
   "id": "5f39f239",
   "metadata": {},
   "outputs": [],
   "source": [
    "meal_feature_matrix=createmealfeaturematrix(meal_data)\n",
    "meal_feature_matrix1=createmealfeaturematrix(meal_data1)\n",
    "meal_feature_matrix=pd.concat([meal_feature_matrix,meal_feature_matrix1]).reset_index().drop(columns='index')\n",
    "\n",
    "#print(meal_feature_matrix['difference_in_glucose_normalized'].to_string())"
   ]
  },
  {
   "cell_type": "markdown",
   "id": "d7034174",
   "metadata": {},
   "source": [
    "# Extracting feature matrix for NoMeal Data"
   ]
  },
  {
   "cell_type": "code",
   "execution_count": 14,
   "id": "886d775e",
   "metadata": {},
   "outputs": [],
   "source": [
    "def createnomealfeaturematrix(non_meal_data):\n",
    "    index_to_remove_non_meal=non_meal_data.isna().sum(axis=1).replace(0,np.nan).dropna().where(lambda x:x>5).dropna().index\n",
    "    non_meal_data_cleaned=non_meal_data.drop(non_meal_data.index[index_to_remove_non_meal]).reset_index().drop(columns='index')\n",
    "    non_meal_data_cleaned=non_meal_data_cleaned.interpolate(method='linear',axis=1)\n",
    "    index_to_drop_again=non_meal_data_cleaned.isna().sum(axis=1).replace(0,np.nan).dropna().index\n",
    "    non_meal_data_cleaned=non_meal_data_cleaned.drop(non_meal_data_cleaned.index[index_to_drop_again]).reset_index().drop(columns='index')\n",
    "    non_meal_feature_matrix=pd.DataFrame()\n",
    "    #non_meal_data_cleaned['tau_time']=(24-non_meal_data_cleaned.iloc[:,0:19].idxmax(axis=1))*5\n",
    "    #non_meal_data_cleaned['difference_in_glucose_normalized']=(non_meal_data_cleaned.iloc[:,0:19].max(axis=1)-non_meal_data_cleaned.iloc[:,24])/(non_meal_data_cleaned.iloc[:,24])\n",
    "    tau_time=abs((non_meal_data_cleaned.iloc[:,1:].idxmax(axis=1)-0)*5)\n",
    "    difference_in_glucose_normalized=abs((non_meal_data_cleaned.iloc[:,1:].max(axis=1)-non_meal_data_cleaned.iloc[:,0])/(non_meal_data_cleaned.iloc[:,0]))\n",
    "    power_first_max,index_first_max,power_second_max,index_second_max=[],[],[],[]\n",
    "    for i in range(len(non_meal_data_cleaned)):\n",
    "        array=abs(rfft(non_meal_data_cleaned.iloc[:,0:24].iloc[i].values.tolist())).tolist()\n",
    "        sorted_array=abs(rfft(non_meal_data_cleaned.iloc[:,0:24].iloc[i].values.tolist())).tolist()\n",
    "        sorted_array.sort()\n",
    "        power_first_max.append(sorted_array[-2])\n",
    "        power_second_max.append(sorted_array[-3])\n",
    "        index_first_max.append(array.index(sorted_array[-2]))\n",
    "        index_second_max.append(array.index(sorted_array[-3]))\n",
    "    #non_meal_feature_matrix['tau_time']=non_meal_data_cleaned['tau_time']\n",
    "    #non_meal_feature_matrix['difference_in_glucose_normalized']=non_meal_data_cleaned['difference_in_glucose_normalized']\n",
    "    non_meal_feature_matrix['tau_time']=tau_time\n",
    "    non_meal_feature_matrix['difference_in_glucose_normalized']=difference_in_glucose_normalized\n",
    "    non_meal_feature_matrix['power_first_max']=power_first_max\n",
    "    non_meal_feature_matrix['power_second_max']=power_second_max\n",
    "    non_meal_feature_matrix['index_first_max']=index_first_max\n",
    "    non_meal_feature_matrix['index_second_max']=index_second_max\n",
    "    first_differential_data=[]\n",
    "    second_differential_data=[]\n",
    "    for i in range(len(non_meal_data_cleaned)):\n",
    "        first_differential_data.append(np.diff(non_meal_data_cleaned.iloc[:,0:24].iloc[i].tolist()).max())\n",
    "        second_differential_data.append(np.diff(np.diff(non_meal_data_cleaned.iloc[:,0:24].iloc[i].tolist())).max())\n",
    "    non_meal_feature_matrix['1stDifferential']=first_differential_data\n",
    "    non_meal_feature_matrix['2ndDifferential']=second_differential_data\n",
    "    return non_meal_feature_matrix"
   ]
  },
  {
   "cell_type": "code",
   "execution_count": 15,
   "id": "23db0ca8",
   "metadata": {},
   "outputs": [],
   "source": [
    "non_meal_feature_matrix=createnomealfeaturematrix(no_meal_data)\n",
    "non_meal_feature_matrix1=createnomealfeaturematrix(no_meal_data1)\n",
    "non_meal_feature_matrix=pd.concat([non_meal_feature_matrix,non_meal_feature_matrix1]).reset_index().drop(columns='index')"
   ]
  },
  {
   "cell_type": "markdown",
   "id": "005a3bf5",
   "metadata": {},
   "source": [
    "# Training the model using DecisionTreeClassifier"
   ]
  },
  {
   "cell_type": "code",
   "execution_count": 16,
   "id": "1463a7f0",
   "metadata": {},
   "outputs": [],
   "source": [
    "from sklearn.metrics import accuracy_score, f1_score, precision_score, recall_score\n",
    "\n",
    "\n",
    "meal_feature_matrix['label']=1\n",
    "non_meal_feature_matrix['label']=0\n",
    "total_data=pd.concat([meal_feature_matrix,non_meal_feature_matrix]).reset_index().drop(columns='index')\n",
    "dataset=shuffle(total_data,random_state=1).reset_index().drop(columns='index')\n",
    "kfold = KFold(n_splits=10,shuffle=True,random_state=1)\n",
    "principaldata=dataset.drop(columns='label')\n",
    "scores_rf = []\n",
    "accuracy, f1, precision, recall = [], [], [], []\n",
    "model=DecisionTreeClassifier(criterion=\"entropy\", max_depth = 5)\n",
    "#model=SVC(C=3000)\n",
    "for train_index, test_index in kfold.split(principaldata):\n",
    "    X_train,X_test,y_train,y_test = principaldata.loc[train_index],principaldata.loc[test_index],\\\n",
    "    dataset.label.loc[train_index],dataset.label.loc[test_index]\n",
    "    model.fit(X_train,y_train)\n",
    "    y_test_pred=model.predict(X_test)\n",
    "    accuracy.append(accuracy_score(y_test,y_test_pred))\n",
    "    f1.append(f1_score(y_test,y_test_pred))\n",
    "    precision.append(precision_score(y_test,y_test_pred))\n",
    "    recall.append(recall_score(y_test,y_test_pred))"
   ]
  },
  {
   "cell_type": "markdown",
   "id": "2a6544c2",
   "metadata": {},
   "source": [
    "# Calculating and printing different metrics"
   ]
  },
  {
   "cell_type": "code",
   "execution_count": 17,
   "id": "566efc60",
   "metadata": {},
   "outputs": [
    {
     "name": "stdout",
     "output_type": "stream",
     "text": [
      "Accuracy score is 84.0749393742237\n",
      "F1 Score score is 68.68419278715277\n",
      "Precision score is 70.9039979242171\n",
      "Recall score is 67.61999300204626\n"
     ]
    }
   ],
   "source": [
    "#print('Prediction score is',np.mean(scores_rf)*100)\n",
    "print('Accuracy score is',np.mean(accuracy)*100)\n",
    "print('F1 Score score is',np.mean(f1)*100)\n",
    "print('Precision score is',np.mean(precision)*100)\n",
    "print('Recall score is',np.mean(recall)*100)\n"
   ]
  },
  {
   "cell_type": "code",
   "execution_count": 18,
   "id": "2ede5b73",
   "metadata": {},
   "outputs": [
    {
     "data": {
      "text/plain": [
       "['DecisionTreeClassifier.pickle']"
      ]
     },
     "execution_count": 18,
     "metadata": {},
     "output_type": "execute_result"
    }
   ],
   "source": [
    "classifier=DecisionTreeClassifier(criterion='entropy')\n",
    "X, y= principaldata, dataset['label']\n",
    "classifier.fit(X,y)\n",
    "dump(classifier, 'DecisionTreeClassifier.pickle')"
   ]
  },
  {
   "cell_type": "code",
   "execution_count": 19,
   "id": "8a9d2611",
   "metadata": {},
   "outputs": [],
   "source": [
    "# classifier = SVC(kernel='rbf')\n",
    "# X, y = principaldata, dataset['label']\n",
    "# classifier.fit(X, y)\n",
    "# dump(classifier, 'SVC_classifier.joblib')"
   ]
  },
  {
   "cell_type": "code",
   "execution_count": null,
   "id": "644b85e3",
   "metadata": {},
   "outputs": [],
   "source": []
  }
 ],
 "metadata": {
  "kernelspec": {
   "display_name": "Python 3 (ipykernel)",
   "language": "python",
   "name": "python3"
  },
  "language_info": {
   "codemirror_mode": {
    "name": "ipython",
    "version": 3
   },
   "file_extension": ".py",
   "mimetype": "text/x-python",
   "name": "python",
   "nbconvert_exporter": "python",
   "pygments_lexer": "ipython3",
   "version": "3.9.13"
  }
 },
 "nbformat": 4,
 "nbformat_minor": 5
}

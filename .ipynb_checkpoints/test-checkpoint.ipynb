{
 "cells": [
  {
   "cell_type": "code",
   "execution_count": 1,
   "id": "69f01118",
   "metadata": {},
   "outputs": [],
   "source": [
    "import pandas as pd\n",
    "import numpy as np\n",
    "from datetime import timedelta\n",
    "from scipy.fftpack import fft, ifft,rfft\n",
    "from sklearn.utils import shuffle\n",
    "from sklearn.ensemble import RandomForestClassifier\n",
    "from sklearn.model_selection import KFold\n",
    "from joblib import dump, load"
   ]
  },
  {
   "cell_type": "code",
   "execution_count": 2,
   "id": "c18a23ab",
   "metadata": {},
   "outputs": [],
   "source": [
    "data=pd.read_csv('test.csv',header=None)\n"
   ]
  },
  {
   "cell_type": "code",
   "execution_count": 3,
   "id": "ccaf459f",
   "metadata": {},
   "outputs": [],
   "source": [
    "def createnomealfeaturematrix(non_meal_data):\n",
    "    index_to_remove_non_meal=non_meal_data.isna().sum(axis=1).replace(0,np.nan).dropna().where(lambda x:x>5).dropna().index\n",
    "    non_meal_data_cleaned=non_meal_data.drop(non_meal_data.index[index_to_remove_non_meal]).reset_index().drop(columns='index')\n",
    "    non_meal_data_cleaned=non_meal_data_cleaned.interpolate(method='linear',axis=1)\n",
    "    index_to_drop_again=non_meal_data_cleaned.isna().sum(axis=1).replace(0,np.nan).dropna().index\n",
    "    non_meal_data_cleaned=non_meal_data_cleaned.drop(non_meal_data_cleaned.index[index_to_drop_again]).reset_index().drop(columns='index')\n",
    "    non_meal_feature_matrix=pd.DataFrame()\n",
    "    #non_meal_data_cleaned['tau_time']=(24-non_meal_data_cleaned.iloc[:,0:19].idxmax(axis=1))*5\n",
    "    #non_meal_data_cleaned['difference_in_glucose_normalized']=(non_meal_data_cleaned.iloc[:,0:19].max(axis=1)-non_meal_data_cleaned.iloc[:,24])/(non_meal_data_cleaned.iloc[:,24])\n",
    "    tau_time=(non_meal_data_cleaned.iloc[:,1:].idxmax(axis=1)-0)*5\n",
    "    difference_in_glucose_normalized=(non_meal_data_cleaned.iloc[:,1:].max(axis=1)-non_meal_data_cleaned.iloc[:,0])/(non_meal_data_cleaned.iloc[:,0])\n",
    "\n",
    "    power_first_max,index_first_max,power_second_max,index_second_max=[],[],[],[]\n",
    "    for i in range(len(non_meal_data_cleaned)):\n",
    "        array=abs(rfft(non_meal_data_cleaned.iloc[:,0:24].iloc[i].values.tolist())).tolist()\n",
    "        sorted_array=abs(rfft(non_meal_data_cleaned.iloc[:,0:24].iloc[i].values.tolist())).tolist()\n",
    "        sorted_array.sort()\n",
    "        power_first_max.append(sorted_array[-2])\n",
    "        power_second_max.append(sorted_array[-3])\n",
    "        index_first_max.append(array.index(sorted_array[-2]))\n",
    "        index_second_max.append(array.index(sorted_array[-3]))\n",
    "    #non_meal_feature_matrix['tau_time']=non_meal_data_cleaned['tau_time']\n",
    "    #non_meal_feature_matrix['difference_in_glucose_normalized']=non_meal_data_cleaned['difference_in_glucose_normalized']\n",
    "    non_meal_feature_matrix['tau_time']=tau_time\n",
    "    non_meal_feature_matrix['difference_in_glucose_normalized']=difference_in_glucose_normalized\n",
    "    non_meal_feature_matrix['power_first_max']=power_first_max\n",
    "    non_meal_feature_matrix['power_second_max']=power_second_max\n",
    "    non_meal_feature_matrix['index_first_max']=index_first_max\n",
    "    non_meal_feature_matrix['index_second_max']=index_second_max\n",
    "    first_differential_data=[]\n",
    "    second_differential_data=[]\n",
    "    for i in range(len(non_meal_data_cleaned)):\n",
    "        first_differential_data.append(np.diff(non_meal_data_cleaned.iloc[:,0:24].iloc[i].tolist()).max())\n",
    "        second_differential_data.append(np.diff(np.diff(non_meal_data_cleaned.iloc[:,0:24].iloc[i].tolist())).max())\n",
    "    non_meal_feature_matrix['1stDifferential']=first_differential_data\n",
    "    non_meal_feature_matrix['2ndDifferential']=second_differential_data\n",
    "    return non_meal_feature_matrix"
   ]
  },
  {
   "cell_type": "code",
   "execution_count": 4,
   "id": "bfaa6016",
   "metadata": {},
   "outputs": [],
   "source": [
    "dataset=createnomealfeaturematrix(data)"
   ]
  },
  {
   "cell_type": "code",
   "execution_count": 5,
   "id": "985a38c0",
   "metadata": {},
   "outputs": [],
   "source": [
    "from joblib import dump, load\n",
    "with open('DecisionTreeClassifier.pickle', 'rb') as pre_trained:\n",
    "    pickle_file = load(pre_trained)\n",
    "    predict = pickle_file.predict(dataset)    \n",
    "    pre_trained.close()"
   ]
  },
  {
   "cell_type": "code",
   "execution_count": 6,
   "id": "708d1878",
   "metadata": {},
   "outputs": [],
   "source": [
    "# from joblib import dump, load\n",
    "# with open('SVC_classifier.joblib', 'rb') as pre_trained:\n",
    "#     pickle_file = load(pre_trained)\n",
    "#     predict = pickle_file.predict(dataset)    \n",
    "#     pre_trained.close()"
   ]
  },
  {
   "cell_type": "code",
   "execution_count": 7,
   "id": "61b81712",
   "metadata": {},
   "outputs": [],
   "source": [
    "pd.DataFrame(predict).to_csv('Result.csv',index=False,header=False)"
   ]
  }
 ],
 "metadata": {
  "kernelspec": {
   "display_name": "Python 3 (ipykernel)",
   "language": "python",
   "name": "python3"
  },
  "language_info": {
   "codemirror_mode": {
    "name": "ipython",
    "version": 3
   },
   "file_extension": ".py",
   "mimetype": "text/x-python",
   "name": "python",
   "nbconvert_exporter": "python",
   "pygments_lexer": "ipython3",
   "version": "3.9.13"
  }
 },
 "nbformat": 4,
 "nbformat_minor": 5
}
